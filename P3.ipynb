{
 "cells": [
  {
   "cell_type": "code",
   "execution_count": 5,
   "metadata": {},
   "outputs": [
    {
     "name": "stdout",
     "output_type": "stream",
     "text": [
      "Good Afternoon  Arushi\n"
     ]
    }
   ],
   "source": [
    "name=(input('enter the name \\n'))\n",
    "print(\"Good Afternoon  \" + name)\n"
   ]
  },
  {
   "cell_type": "code",
   "execution_count": 8,
   "metadata": {},
   "outputs": [
    {
     "name": "stdout",
     "output_type": "stream",
     "text": [
      "Dear Arushi\n",
      "              You are selected !\n",
      "      23 january              \n",
      "\n"
     ]
    }
   ],
   "source": [
    "#WAP to fill letter template \n",
    "letter ='''Dear <|NAME|>\n",
    "              You are selected !\n",
    "      <|DATE|>              \n",
    "'''\n",
    "name=input('enter your name\\n')\n",
    "date=input('enter date\\n')\n",
    "letter=letter.replace('<|NAME|>',name)\n",
    "letter=letter.replace('<|DATE|>',date)\n",
    "print(letter)"
   ]
  },
  {
   "cell_type": "code",
   "execution_count": 9,
   "metadata": {},
   "outputs": [
    {
     "name": "stdout",
     "output_type": "stream",
     "text": [
      "2\n"
     ]
    }
   ],
   "source": [
    "# WAP to detect double space in a string\n",
    "line ='we learn python      from digipodium in    hazratganj'\n",
    "doublespace=line.find(' ')\n",
    "print(doublespace)\n"
   ]
  },
  {
   "cell_type": "code",
   "execution_count": 17,
   "metadata": {},
   "outputs": [
    {
     "name": "stdout",
     "output_type": "stream",
     "text": [
      "we learn python from digipodium in  hazratganj\n"
     ]
    }
   ],
   "source": [
    "# WAP to detect double space in a string\n",
    "line ='we learn python from digipodium in    hazratganj'\n",
    "doublespace=line.replace('   ', ' ')\n",
    "print(doublespace)\n"
   ]
  },
  {
   "cell_type": "code",
   "execution_count": 18,
   "metadata": {},
   "outputs": [
    {
     "name": "stdout",
     "output_type": "stream",
     "text": [
      "Dear harry, this python course is nice! thanks!\n",
      "dear harry\n",
      "\tthis python course is nice!\n",
      "thans!\n"
     ]
    }
   ],
   "source": [
    "#WAP to format the following letter using escape sequence \n",
    "letter='Dear harry, this python course is nice! thanks!'\n",
    "print(letter)\n",
    "formatted_letter='dear harry\\n\\tthis python course is nice!\\nthans!'\n",
    "print(formatted_letter)"
   ]
  },
  {
   "cell_type": "code",
   "execution_count": null,
   "metadata": {},
   "outputs": [],
   "source": []
  }
 ],
 "metadata": {
  "kernelspec": {
   "display_name": "Python 3.9.12 ('base')",
   "language": "python",
   "name": "python3"
  },
  "language_info": {
   "codemirror_mode": {
    "name": "ipython",
    "version": 3
   },
   "file_extension": ".py",
   "mimetype": "text/x-python",
   "name": "python",
   "nbconvert_exporter": "python",
   "pygments_lexer": "ipython3",
   "version": "3.9.12"
  },
  "orig_nbformat": 4,
  "vscode": {
   "interpreter": {
    "hash": "44a5d09c9c41ff8ead3aaf2e87702949456d3b7a275ab0a4f7941bb46848400c"
   }
  }
 },
 "nbformat": 4,
 "nbformat_minor": 2
}
