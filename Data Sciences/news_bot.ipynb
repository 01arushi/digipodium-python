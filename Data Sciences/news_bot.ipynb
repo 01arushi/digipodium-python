{
 "cells": [
  {
   "cell_type": "code",
   "execution_count": 23,
   "metadata": {},
   "outputs": [],
   "source": [
    "import requests \n",
    "from bs4 import BeautifulSoup"
   ]
  },
  {
   "cell_type": "code",
   "execution_count": 24,
   "metadata": {},
   "outputs": [],
   "source": [
    "def get_soup(url):\n",
    "    page = requests.get(url)\n",
    "    return BeautifulSoup(page.text)"
   ]
  },
  {
   "cell_type": "code",
   "execution_count": 25,
   "metadata": {},
   "outputs": [],
   "source": [
    "soup = get_soup('https://www.ndtv.com/latest')"
   ]
  },
  {
   "cell_type": "code",
   "execution_count": 26,
   "metadata": {},
   "outputs": [],
   "source": [
    "target = soup.find('div',attrs={'class':'lisingNews'})"
   ]
  },
  {
   "cell_type": "code",
   "execution_count": 27,
   "metadata": {},
   "outputs": [
    {
     "name": "stdout",
     "output_type": "stream",
     "text": [
      "0\n"
     ]
    }
   ],
   "source": [
    "newslist = target.find_all('div',attrs={'class':'news_itm'})\n",
    "print(len(newslist))"
   ]
  },
  {
   "cell_type": "code",
   "execution_count": 28,
   "metadata": {},
   "outputs": [],
   "source": [
    "data = []\n",
    "for news in newslist:\n",
    "    title = news.find('h2',attrs={'class':'newsHdng'})\n",
    "    details = news.find('span',attrs={'class':'posted-by'})\n",
    "    content = news.find('p',attrs={'class':'newsCont'})\n",
    "    if title and details and content:\n",
    "        print('--> HEADLINES','--'*40)\n",
    "        print(title.text)\n",
    "        print(content.text.strip())\n",
    "        print(details.text.strip())\n",
    "        data.append({\n",
    "            'title':title.text.strip(),\n",
    "            'details':details.text.strip(),\n",
    "            'title':title.text.strip(),\n",
    "            'content':content.text.strcontent\n",
    "\n",
    "        })"
   ]
  },
  {
   "cell_type": "code",
   "execution_count": 29,
   "metadata": {},
   "outputs": [],
   "source": [
    "import pandas as pd"
   ]
  },
  {
   "cell_type": "code",
   "execution_count": 30,
   "metadata": {},
   "outputs": [],
   "source": [
    "pd.DataFrame(data).to_csv('headlines.csv')"
   ]
  },
  {
   "cell_type": "code",
   "execution_count": 32,
   "metadata": {},
   "outputs": [],
   "source": [
    "soup = get_soup('https://www.python.org/jobs/')"
   ]
  },
  {
   "cell_type": "code",
   "execution_count": null,
   "metadata": {},
   "outputs": [],
   "source": [
    "target = soup.find('div',attrs={'class':'lisingNews'})"
   ]
  }
 ],
 "metadata": {
  "kernelspec": {
   "display_name": "Python 3.9.12 ('base')",
   "language": "python",
   "name": "python3"
  },
  "language_info": {
   "codemirror_mode": {
    "name": "ipython",
    "version": 3
   },
   "file_extension": ".py",
   "mimetype": "text/x-python",
   "name": "python",
   "nbconvert_exporter": "python",
   "pygments_lexer": "ipython3",
   "version": "3.9.12"
  },
  "orig_nbformat": 4,
  "vscode": {
   "interpreter": {
    "hash": "44a5d09c9c41ff8ead3aaf2e87702949456d3b7a275ab0a4f7941bb46848400c"
   }
  }
 },
 "nbformat": 4,
 "nbformat_minor": 2
}
