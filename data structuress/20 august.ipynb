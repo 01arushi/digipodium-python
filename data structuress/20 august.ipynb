{
 "cells": [
  {
   "cell_type": "code",
   "execution_count": 7,
   "metadata": {},
   "outputs": [
    {
     "name": "stdout",
     "output_type": "stream",
     "text": [
      "4.611111111111111\n",
      "7.0\n",
      "0\n",
      "9\n"
     ]
    }
   ],
   "source": [
    "x=[2,4,6,7,3,2,5,6,7,8,9,0,6,5,4,3,2,4]\n",
    "mean=sum(x)/len(x)\n",
    "print(mean)\n",
    "x.sort()\n",
    "if len(x) % 2==0:\n",
    "    median=x[len(x)//2]+x[len(x)//2-1]/2\n",
    "else:\n",
    "    median=x[len(x)//2]\n",
    "print(median)\n",
    "print(min(x))\n",
    "print(max(x))"
   ]
  },
  {
   "cell_type": "code",
   "execution_count": 9,
   "metadata": {},
   "outputs": [
    {
     "name": "stdout",
     "output_type": "stream",
     "text": [
      "[8, 10, 12]\n"
     ]
    }
   ],
   "source": [
    "# add 2 list together element wise and produce a new list \n",
    "a1=[1,2,3,4]\n",
    "b1=[7,8,9]\n",
    "n1=[]\n",
    "for i,j in zip(a1,b1):\n",
    "    n1.append(i+j)\n",
    "print(n1)    \n",
    "    # zip is used to add two or more list in loop\n",
    "\n"
   ]
  },
  {
   "cell_type": "code",
   "execution_count": 11,
   "metadata": {},
   "outputs": [
    {
     "name": "stdout",
     "output_type": "stream",
     "text": [
      "[2, 3, 4, 5, 6, 7, 8, 9]\n",
      "[4, 9, 16, 25, 36, 49, 64, 81]\n"
     ]
    }
   ],
   "source": [
    "# create a list where every element is a sqr\n",
    "# of elements from an existing list\n",
    "a=[2,3,4,5,6,7,8,9]\n",
    "b=[]\n",
    "for i in a:\n",
    "    b.append(i**2)\n",
    "print(a)\n",
    "print(b)"
   ]
  },
  {
   "cell_type": "code",
   "execution_count": 16,
   "metadata": {},
   "outputs": [
    {
     "name": "stdout",
     "output_type": "stream",
     "text": [
      "[2, 3, 4, 5, 6, 7, 8, 9]\n",
      "[9, 25, 49, 81]\n"
     ]
    }
   ],
   "source": [
    "# create a list where every odd element is a sqr\n",
    "# of elements from an existing list\n",
    "\n",
    "l=[2,3,4,5,6,7,8,9]\n",
    "x=[]\n",
    "for i in l:\n",
    "    if i % 2 != 0:\n",
    "        x.append(i**2)\n",
    "print(l)\n",
    "print(x)        \n"
   ]
  },
  {
   "cell_type": "code",
   "execution_count": 19,
   "metadata": {},
   "outputs": [
    {
     "name": "stdout",
     "output_type": "stream",
     "text": [
      "['us', 'pm', 'se', 'sse', 'sda', 'da']\n"
     ]
    }
   ],
   "source": [
    " # create a abbrivation list from an \n",
    " # existing list o words \n",
    "\n",
    "words=['united states','project manager','software engineer','senior software engineer','senior data analyst','data analyst']\n",
    "abbrs =[]\n",
    "for names in words:\n",
    "    ans =''\n",
    "    for words in names.split():\n",
    "        ans+= words[0]\n",
    "    abbrs.append(ans)\n",
    "print(abbrs)        \n"
   ]
  },
  {
   "cell_type": "code",
   "execution_count": 6,
   "metadata": {},
   "outputs": [
    {
     "name": "stdout",
     "output_type": "stream",
     "text": [
      "56\n",
      "[56]\n",
      "[175616]\n"
     ]
    }
   ],
   "source": [
    "# take a list from user in one line of input and then\n",
    "# remove all he non numeric values from the list \n",
    "# then display the cubes of numbers from that list \n",
    "\n",
    "entries = input('enter data seperated with space: ')\n",
    "print(entries)\n",
    "numeric_entries=[]\n",
    "for value in entries.split():\n",
    "    if value.isnumeric():\n",
    "        numeric_entries.append(int(value))\n",
    "print(numeric_entries)        \n",
    "\n",
    "# cubes of numbers \n",
    "\n",
    "cube = [i**3 for i in numeric_entries]\n",
    "print(cube)        \n",
    "        "
   ]
  },
  {
   "cell_type": "markdown",
   "metadata": {},
   "source": [
    "# list comprehension \n",
    "is a way to create a list from existing list\n",
    "using one line of expression\n",
    "- syntax \n",
    "'''\n",
    "newlist=[expression for item in oldlist]\n",
    "'''\n",
    "\n",
    "\n",
    "- with condition syntax \n",
    "'''\n",
    "newlist = [expression for tem in oldlist if conditon]\n",
    "'''"
   ]
  },
  {
   "cell_type": "code",
   "execution_count": 1,
   "metadata": {},
   "outputs": [
    {
     "name": "stdout",
     "output_type": "stream",
     "text": [
      "[8, 27, 125, 1331]\n"
     ]
    }
   ],
   "source": [
    "x=[2,3,5,11]\n",
    "x3=[]\n",
    "for i in x:\n",
    "    x3.append(i**3)\n",
    "print(x3)   \n"
   ]
  },
  {
   "cell_type": "code",
   "execution_count": 2,
   "metadata": {},
   "outputs": [
    {
     "name": "stdout",
     "output_type": "stream",
     "text": [
      "[8, 125, 512, 1331]\n"
     ]
    }
   ],
   "source": [
    "x=[2,5,8,11]\n",
    "x3=[]\n",
    "x3=[i**3 for i in x]\n",
    "print(x3)"
   ]
  },
  {
   "cell_type": "code",
   "execution_count": 8,
   "metadata": {},
   "outputs": [
    {
     "name": "stdout",
     "output_type": "stream",
     "text": [
      "lkju\n",
      "[]\n",
      "[]\n"
     ]
    }
   ],
   "source": [
    "entries=input('enter data seperated with space: ')\n",
    "print(entries)\n",
    "numeric_entries=[int(value) for value in entries.split() if value.isnumeric()]\n",
    "print(numeric_entries)\n",
    "cubes = [i**3 for i in numeric_entries]\n",
    "print(cubes)"
   ]
  },
  {
   "cell_type": "code",
   "execution_count": null,
   "metadata": {},
   "outputs": [],
   "source": []
  }
 ],
 "metadata": {
  "kernelspec": {
   "display_name": "Python 3.9.12 ('base')",
   "language": "python",
   "name": "python3"
  },
  "language_info": {
   "codemirror_mode": {
    "name": "ipython",
    "version": 3
   },
   "file_extension": ".py",
   "mimetype": "text/x-python",
   "name": "python",
   "nbconvert_exporter": "python",
   "pygments_lexer": "ipython3",
   "version": "3.9.12"
  },
  "orig_nbformat": 4,
  "vscode": {
   "interpreter": {
    "hash": "44a5d09c9c41ff8ead3aaf2e87702949456d3b7a275ab0a4f7941bb46848400c"
   }
  }
 },
 "nbformat": 4,
 "nbformat_minor": 2
}
