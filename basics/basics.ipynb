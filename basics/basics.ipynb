{
 "cells": [
  {
   "cell_type": "code",
   "execution_count": 52,
   "metadata": {},
   "outputs": [
    {
     "name": "stdout",
     "output_type": "stream",
     "text": [
      "\n"
     ]
    }
   ],
   "source": [
    "print()"
   ]
  },
  {
   "cell_type": "code",
   "execution_count": null,
   "metadata": {},
   "outputs": [
    {
     "name": "stdout",
     "output_type": "stream",
     "text": [
      "Arushi Saxena\n"
     ]
    }
   ],
   "source": [
    "print(\"Arushi Saxena\")"
   ]
  },
  {
   "cell_type": "markdown",
   "metadata": {},
   "source": [
    "raw output are oly for developers"
   ]
  },
  {
   "cell_type": "code",
   "execution_count": null,
   "metadata": {},
   "outputs": [
    {
     "data": {
      "text/plain": [
       "'Welcome to kingdom'"
      ]
     },
     "execution_count": 8,
     "metadata": {},
     "output_type": "execute_result"
    }
   ],
   "source": [
    "\"Welcome to kingdom\""
   ]
  },
  {
   "cell_type": "code",
   "execution_count": null,
   "metadata": {},
   "outputs": [
    {
     "data": {
      "text/plain": [
       "633"
      ]
     },
     "execution_count": 9,
     "metadata": {},
     "output_type": "execute_result"
    }
   ],
   "source": [
    "230+693-58*5"
   ]
  },
  {
   "cell_type": "code",
   "execution_count": null,
   "metadata": {},
   "outputs": [
    {
     "name": "stdout",
     "output_type": "stream",
     "text": [
      "this is ann apple it is a fruit i dont like apples\n"
     ]
    }
   ],
   "source": [
    "\n",
    "print('this is ann apple','it is a fruit', 'i dont like apples')"
   ]
  },
  {
   "cell_type": "code",
   "execution_count": null,
   "metadata": {},
   "outputs": [
    {
     "name": "stdout",
     "output_type": "stream",
     "text": [
      "1 a 2 a 3.5 a 6.8 a 9.5 a 6.8 a 25 a 2588 a 639745\n"
     ]
    }
   ],
   "source": [
    "print(1,2,3.5,6.8,9.5,6.8,25,2588,639745 , sep=' a ')"
   ]
  },
  {
   "cell_type": "code",
   "execution_count": null,
   "metadata": {},
   "outputs": [
    {
     "name": "stdout",
     "output_type": "stream",
     "text": [
      "this is python data science\n",
      "we are going to do code\n",
      "and learn the scerets of python\n",
      "thats it!\n"
     ]
    }
   ],
   "source": [
    "print('this is python data science')\n",
    "print('we are going to do code')\n",
    "print('and learn the scerets of python')\n",
    "print('thats it!')"
   ]
  },
  {
   "cell_type": "code",
   "execution_count": null,
   "metadata": {},
   "outputs": [
    {
     "name": "stdout",
     "output_type": "stream",
     "text": [
      "The Zen of Python, by Tim Peters\n",
      "\n",
      "Beautiful is better than ugly.\n",
      "Explicit is better than implicit.\n",
      "Simple is better than complex.\n",
      "Complex is better than complicated.\n",
      "Flat is better than nested.\n",
      "Sparse is better than dense.\n",
      "Readability counts.\n",
      "Special cases aren't special enough to break the rules.\n",
      "Although practicality beats purity.\n",
      "Errors should never pass silently.\n",
      "Unless explicitly silenced.\n",
      "In the face of ambiguity, refuse the temptation to guess.\n",
      "There should be one-- and preferably only one --obvious way to do it.\n",
      "Although that way may not be obvious at first unless you're Dutch.\n",
      "Now is better than never.\n",
      "Although never is often better than *right* now.\n",
      "If the implementation is hard to explain, it's a bad idea.\n",
      "If the implementation is easy to explain, it may be a good idea.\n",
      "Namespaces are one honking great idea -- let's do more of those!\n"
     ]
    }
   ],
   "source": [
    "\n",
    "import this"
   ]
  },
  {
   "cell_type": "code",
   "execution_count": null,
   "metadata": {},
   "outputs": [
    {
     "name": "stdout",
     "output_type": "stream",
     "text": [
      "\n",
      "Beautiful is better than ugly.\n",
      "Explicit is better than implicit.\n",
      "Simple is better than complex.\n",
      "Complex is better than complicated.\n",
      "Flat is better than nested.\n",
      "Sparse is better than dense.\n",
      "Readability counts.\n",
      "\n",
      "\n"
     ]
    }
   ],
   "source": [
    "print('''\n",
    "Beautiful is better than ugly.\n",
    "Explicit is better than implicit.\n",
    "Simple is better than complex.\n",
    "Complex is better than complicated.\n",
    "Flat is better than nested.\n",
    "Sparse is better than dense.\n",
    "Readability counts.\n",
    "\n",
    "''')"
   ]
  },
  {
   "cell_type": "markdown",
   "metadata": {},
   "source": [
    "there are few settings in print function that we can provide whenever we want to print something ."
   ]
  },
  {
   "cell_type": "code",
   "execution_count": null,
   "metadata": {},
   "outputs": [
    {
     "name": "stdout",
     "output_type": "stream",
     "text": [
      "this is the \n",
      "multiline\n",
      "message\n"
     ]
    }
   ],
   "source": [
    "print('this' , end=' ')\n",
    "print('is the ')\n",
    "print('multiline')\n",
    "print('message')"
   ]
  },
  {
   "cell_type": "code",
   "execution_count": null,
   "metadata": {},
   "outputs": [],
   "source": [
    "age=18\n",
    "color3='red'\n",
    "name='bob'\n",
    "is_married= True"
   ]
  },
  {
   "cell_type": "code",
   "execution_count": null,
   "metadata": {},
   "outputs": [],
   "source": [
    "name='nobita'"
   ]
  },
  {
   "cell_type": "code",
   "execution_count": null,
   "metadata": {},
   "outputs": [],
   "source": [
    "age=3"
   ]
  },
  {
   "cell_type": "code",
   "execution_count": null,
   "metadata": {},
   "outputs": [],
   "source": [
    "color3= 'yellow'"
   ]
  },
  {
   "cell_type": "markdown",
   "metadata": {},
   "source": [
    "Datatype can be changed by changing the value of a variable        "
   ]
  },
  {
   "cell_type": "code",
   "execution_count": 4,
   "metadata": {},
   "outputs": [],
   "source": [
    "x=1.25\n",
    "y=56.3258\n",
    "z=6342.85e245"
   ]
  },
  {
   "cell_type": "code",
   "execution_count": 5,
   "metadata": {},
   "outputs": [],
   "source": [
    "is_coding= True\n",
    "is_fun= True\n",
    "are_u_bored=False"
   ]
  },
  {
   "cell_type": "code",
   "execution_count": 7,
   "metadata": {},
   "outputs": [],
   "source": [
    "a= {5,10,15,20,25}\n",
    "vals={1,2.2,'python'}\n",
    "colors={'red'}"
   ]
  },
  {
   "cell_type": "markdown",
   "metadata": {},
   "source": [
    "# input in python"
   ]
  },
  {
   "cell_type": "code",
   "execution_count": 1,
   "metadata": {},
   "outputs": [
    {
     "name": "stdout",
     "output_type": "stream",
     "text": [
      "so accordng to you\n",
      "you are \n",
      "and you live in  \n"
     ]
    }
   ],
   "source": [
    "name = input('what is your name?')\n",
    "city = input ('which city do u live in')\n",
    "print (\"so accordng to you\")\n",
    "print('you are', name )\n",
    "print('and you live in ',city)"
   ]
  },
  {
   "cell_type": "markdown",
   "metadata": {},
   "source": [
    "OPERATORS"
   ]
  },
  {
   "cell_type": "code",
   "execution_count": 7,
   "metadata": {},
   "outputs": [
    {
     "name": "stdout",
     "output_type": "stream",
     "text": [
      "13\n",
      "7\n",
      "3.3333333333333335\n",
      "3\n",
      "30\n",
      "1\n"
     ]
    }
   ],
   "source": [
    "#arithmetic operators \n",
    "a= 10\n",
    "b= 3\n",
    "print(a+b)\n",
    "print(a-b)\n",
    "print(a/b)\n",
    "print(a//b)\n",
    "print(a*b)\n",
    "print(a%b)\n",
    "\n"
   ]
  },
  {
   "cell_type": "code",
   "execution_count": null,
   "metadata": {},
   "outputs": [],
   "source": [
    "print(a//b) # int divi when we want hole answer \n",
    "print( a%b) # remainder \n",
    "2**5 # ** indicates power (exponentation)"
   ]
  },
  {
   "cell_type": "markdown",
   "metadata": {},
   "source": [
    "ASSIGNMENT OPERATORS "
   ]
  },
  {
   "cell_type": "code",
   "execution_count": 14,
   "metadata": {},
   "outputs": [],
   "source": [
    "a=10\n",
    "b=5\n",
    "c=3\n",
    "# second method \n",
    "# x,y,z=10,20,30\n",
    "# third method \n",
    "a +=2 #update a with a+2 which means a=a+2\n",
    "a/=2\n",
    "a*=2\n",
    "a-=2\n",
    "\n",
    "\n"
   ]
  },
  {
   "cell_type": "markdown",
   "metadata": {},
   "source": [
    "# COMPARISON OPERATOR \n"
   ]
  },
  {
   "cell_type": "code",
   "execution_count": 16,
   "metadata": {},
   "outputs": [
    {
     "name": "stdout",
     "output_type": "stream",
     "text": [
      "True\n",
      "True\n",
      "False\n",
      "False\n",
      "False\n",
      "True\n"
     ]
    }
   ],
   "source": [
    "print(a>b) # greater than\n",
    "print(a>=b)# greater than or equal to \n",
    "print(a<b) # less than\n",
    "print(a<=b)# less than or equal to \n",
    "print(a==b)# equal to \n",
    "print(a!=b)# not equal to "
   ]
  },
  {
   "cell_type": "markdown",
   "metadata": {},
   "source": [
    "# LOGICAL OPERATORS\n",
    "(and , or, not )"
   ]
  },
  {
   "cell_type": "code",
   "execution_count": 22,
   "metadata": {},
   "outputs": [
    {
     "name": "stdout",
     "output_type": "stream",
     "text": [
      "True\n",
      "False\n",
      "True\n",
      "True\n",
      "False\n",
      "True\n",
      "False\n",
      "False\n",
      "False\n"
     ]
    }
   ],
   "source": [
    "print (a>b and a>5)\n",
    "print (a<b and a>5)\n",
    "print (a>b or a>5)\n",
    "print (a<b or a>5)\n",
    "print (a<b or a<5)\n",
    "print (not a<b)\n",
    "print ( not a>b)\n",
    "print (not a and not b )\n",
    "print (not a and not b and not c )"
   ]
  },
  {
   "cell_type": "markdown",
   "metadata": {},
   "source": [
    "# membership operator (in)"
   ]
  },
  {
   "cell_type": "code",
   "execution_count": 23,
   "metadata": {},
   "outputs": [
    {
     "name": "stdout",
     "output_type": "stream",
     "text": [
      "True\n",
      "False\n",
      "True\n",
      "True\n"
     ]
    }
   ],
   "source": [
    "colors = ['red','blue','green','yellow','Orange'] \n",
    "print ('red' in colors)\n",
    "print ('orange' in colors)\n",
    "print ('yellow' in colors)\n",
    "print ('Orange' in colors)"
   ]
  },
  {
   "cell_type": "code",
   "execution_count": 26,
   "metadata": {},
   "outputs": [
    {
     "name": "stdout",
     "output_type": "stream",
     "text": [
      "True\n",
      "True\n",
      "False\n",
      "True\n"
     ]
    }
   ],
   "source": [
    "#string searching \n",
    "msg = \"its the journey that matters \"\n",
    "print ('journey' in msg)\n",
    "print ('that' in msg)\n",
    "print ('Maters' in msg)\n",
    "print ('destination' not in msg) # tells that is not present in the given command "
   ]
  },
  {
   "cell_type": "markdown",
   "metadata": {},
   "source": [
    "# is operator check whether two objects belong to same memory location or not "
   ]
  },
  {
   "cell_type": "markdown",
   "metadata": {},
   "source": [
    "#PRACTSE QUESTION \n",
    "1. WAP to calculate the area of circle \n",
    "2. WAP to calculate the area of rectangle\n",
    "3. WAP to calculate the area of triangle \n",
    "4. WAP to calculate the hypotenus using perpendicular and base \n",
    "5. WAP to calculate the factorial of 5 "
   ]
  },
  {
   "cell_type": "code",
   "execution_count": 36,
   "metadata": {},
   "outputs": [
    {
     "name": "stdout",
     "output_type": "stream",
     "text": [
      "50.24 for a circle with radius 4\n"
     ]
    }
   ],
   "source": [
    "r=4\n",
    "area= 3.14*r**2\n",
    "print(area, 'for a circle with radius', r)"
   ]
  },
  {
   "cell_type": "code",
   "execution_count": 30,
   "metadata": {},
   "outputs": [
    {
     "name": "stdout",
     "output_type": "stream",
     "text": [
      "18\n"
     ]
    }
   ],
   "source": [
    "# solution 2 \n",
    "l=3\n",
    "b=6\n",
    "area = l*b\n",
    "print(area )"
   ]
  },
  {
   "cell_type": "code",
   "execution_count": 33,
   "metadata": {},
   "outputs": [
    {
     "name": "stdout",
     "output_type": "stream",
     "text": [
      "16.0\n"
     ]
    }
   ],
   "source": [
    "#solution 3 \n",
    "b=8\n",
    "h=4\n",
    "area = 1/2 *b*h\n",
    "print(area)"
   ]
  },
  {
   "cell_type": "code",
   "execution_count": 38,
   "metadata": {},
   "outputs": [
    {
     "name": "stdout",
     "output_type": "stream",
     "text": [
      "12.5\n"
     ]
    }
   ],
   "source": [
    "h=float(input('enter height='))\n",
    "l=float(input('enter base ='))\n",
    "area_of_triangle = 0.5*b*h\n",
    "print(area_of_triangle)"
   ]
  },
  {
   "cell_type": "code",
   "execution_count": 37,
   "metadata": {},
   "outputs": [
    {
     "name": "stdout",
     "output_type": "stream",
     "text": [
      "area of the rectangle is 10.0\n"
     ]
    }
   ],
   "source": [
    "l=float(input('enter length ='))\n",
    "b=float(input('enter breadth  ='))\n",
    "area=l*b\n",
    "print('area of the rectangle is',area )"
   ]
  },
  {
   "cell_type": "code",
   "execution_count": 35,
   "metadata": {},
   "outputs": [
    {
     "name": "stdout",
     "output_type": "stream",
     "text": [
      "120\n"
     ]
    }
   ],
   "source": [
    "#solution 5\n",
    "f=5\n",
    "print(5*4*3*2*1)\n"
   ]
  },
  {
   "cell_type": "code",
   "execution_count": 43,
   "metadata": {},
   "outputs": [
    {
     "ename": "AttributeError",
     "evalue": "type object 'float' has no attribute 'hypot'",
     "output_type": "error",
     "traceback": [
      "\u001b[1;31m---------------------------------------------------------------------------\u001b[0m",
      "\u001b[1;31mAttributeError\u001b[0m                            Traceback (most recent call last)",
      "\u001b[1;32mc:\\Users\\lenovo\\Documents\\digipodium python\\basics.ipynb Cell 44\u001b[0m in \u001b[0;36m<cell line: 4>\u001b[1;34m()\u001b[0m\n\u001b[0;32m      <a href='vscode-notebook-cell:/c%3A/Users/lenovo/Documents/digipodium%20python/basics.ipynb#ch0000044?line=1'>2</a>\u001b[0m p\u001b[39m=\u001b[39m\u001b[39mfloat\u001b[39m(\u001b[39minput\u001b[39m(\u001b[39m'\u001b[39m\u001b[39menter perpendicular =\u001b[39m\u001b[39m'\u001b[39m))\n\u001b[0;32m      <a href='vscode-notebook-cell:/c%3A/Users/lenovo/Documents/digipodium%20python/basics.ipynb#ch0000044?line=2'>3</a>\u001b[0m b\u001b[39m=\u001b[39m\u001b[39mfloat\u001b[39m(\u001b[39minput\u001b[39m(\u001b[39m'\u001b[39m\u001b[39menter base =\u001b[39m\u001b[39m'\u001b[39m))\n\u001b[1;32m----> <a href='vscode-notebook-cell:/c%3A/Users/lenovo/Documents/digipodium%20python/basics.ipynb#ch0000044?line=3'>4</a>\u001b[0m h\u001b[39m=\u001b[39m\u001b[39mfloat\u001b[39;49m\u001b[39m.\u001b[39;49mhypot(p,b)\n\u001b[0;32m      <a href='vscode-notebook-cell:/c%3A/Users/lenovo/Documents/digipodium%20python/basics.ipynb#ch0000044?line=4'>5</a>\u001b[0m \u001b[39mprint\u001b[39m(\u001b[39m'\u001b[39m\u001b[39mhypotenuse is \u001b[39m\u001b[39m'\u001b[39m,h)\n",
      "\u001b[1;31mAttributeError\u001b[0m: type object 'float' has no attribute 'hypot'"
     ]
    }
   ],
   "source": [
    "#solution 4 \n",
    "p=float(input('enter perpendicular ='))\n",
    "b=float(input('enter base ='))\n",
    "h=float.hypot(p,b)\n",
    "print('hypotenuse is ',h)\n"
   ]
  },
  {
   "cell_type": "code",
   "execution_count": 47,
   "metadata": {},
   "outputs": [],
   "source": [
    "import math"
   ]
  },
  {
   "cell_type": "code",
   "execution_count": 48,
   "metadata": {},
   "outputs": [
    {
     "name": "stdout",
     "output_type": "stream",
     "text": [
      "hypotenuse is  3.827531841800928\n"
     ]
    }
   ],
   "source": [
    "p=float(input('enter perpendicular ='))\n",
    "b=float(input('enter base ='))\n",
    "h=math.hypot(p,b)\n",
    "print('hypotenuse is ',h)"
   ]
  },
  {
   "cell_type": "code",
   "execution_count": 51,
   "metadata": {},
   "outputs": [
    {
     "name": "stdout",
     "output_type": "stream",
     "text": [
      "['__doc__', '__loader__', '__name__', '__package__', '__spec__', 'acos', 'acosh', 'asin', 'asinh', 'atan', 'atan2', 'atanh', 'ceil', 'comb', 'copysign', 'cos', 'cosh', 'degrees', 'dist', 'e', 'erf', 'erfc', 'exp', 'expm1', 'fabs', 'factorial', 'floor', 'fmod', 'frexp', 'fsum', 'gamma', 'gcd', 'hypot', 'inf', 'isclose', 'isfinite', 'isinf', 'isnan', 'isqrt', 'lcm', 'ldexp', 'lgamma', 'log', 'log10', 'log1p', 'log2', 'modf', 'nan', 'nextafter', 'perm', 'pi', 'pow', 'prod', 'radians', 'remainder', 'sin', 'sinh', 'sqrt', 'tan', 'tanh', 'tau', 'trunc', 'ulp']\n"
     ]
    }
   ],
   "source": [
    "print(dir(math))"
   ]
  },
  {
   "cell_type": "code",
   "execution_count": 53,
   "metadata": {},
   "outputs": [
    {
     "name": "stdout",
     "output_type": "stream",
     "text": [
      "factorial of  5 is 120\n"
     ]
    }
   ],
   "source": [
    "num= int(input('enter a number:'))\n",
    "fact = math.factorial(num)\n",
    "print('factorial of ',num, 'is', fact)"
   ]
  },
  {
   "cell_type": "code",
   "execution_count": null,
   "metadata": {},
   "outputs": [
    {
     "ename": "",
     "evalue": "",
     "output_type": "error",
     "traceback": [
      "\u001b[1;31mThe file 'string.py' seems to be overriding built in modules and interfering with the startup of the kernel. Consider renaming the file and starting the kernel again..\n",
      "Click <a href='https://aka.ms/kernelFailuresOverridingBuiltInModules'>here</a> for more info."
     ]
    }
   ],
   "source": [
    "#compound interest\n",
    "p=float(input('enter a principal='))\n",
    "r=float(input('enter a rate='))\n",
    "t=float(input('enter a time'))\n",
    "n=float(input('enter a number of times interest is compound'))\n",
    "ci = p*(1+r/n)**(n*t)\n",
    "print('commpound interest is',ci)\n"
   ]
  },
  {
   "cell_type": "code",
   "execution_count": null,
   "metadata": {},
   "outputs": [],
   "source": []
  },
  {
   "cell_type": "code",
   "execution_count": 1,
   "metadata": {},
   "outputs": [
    {
     "name": "stdout",
     "output_type": "stream",
     "text": [
      "commpound interest is 8.217217917563103e+196\n"
     ]
    }
   ],
   "source": [
    "p=float(input('enter a principal='))\n",
    "r=float(input('enter a rate='))\n",
    "t=float(input('enter a time'))\n",
    "n=float(input('enter a number of times interest is compound'))\n",
    "ci = p*(1+r/n)**(n*t)\n",
    "print('commpound interest is',ci)"
   ]
  },
  {
   "cell_type": "code",
   "execution_count": null,
   "metadata": {},
   "outputs": [],
   "source": [
    "                                        "
   ]
  }
 ],
 "metadata": {
  "kernelspec": {
   "display_name": "Python 3.9.12 ('base')",
   "language": "python",
   "name": "python3"
  },
  "language_info": {
   "codemirror_mode": {
    "name": "ipython",
    "version": 3
   },
   "file_extension": ".py",
   "mimetype": "text/x-python",
   "name": "python",
   "nbconvert_exporter": "python",
   "pygments_lexer": "ipython3",
   "version": "3.9.12"
  },
  "orig_nbformat": 4,
  "vscode": {
   "interpreter": {
    "hash": "44a5d09c9c41ff8ead3aaf2e87702949456d3b7a275ab0a4f7941bb46848400c"
   }
  }
 },
 "nbformat": 4,
 "nbformat_minor": 2
}
