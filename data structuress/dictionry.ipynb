{
 "cells": [
  {
   "cell_type": "markdown",
   "metadata": {},
   "source": [
    "# ordered collection of items \n",
    "# each item of a dictionary has a key / value pair"
   ]
  },
  {
   "cell_type": "code",
   "execution_count": 1,
   "metadata": {},
   "outputs": [
    {
     "name": "stdout",
     "output_type": "stream",
     "text": [
      "deepak\n"
     ]
    }
   ],
   "source": [
    "# dictionary with integer keys \n",
    "\n",
    "my_dict={1: 'apple',2:'ball'}\n",
    "my_dict={'name':'deepak' , 'age':20 }\n",
    "print(my_dict['name'])\n"
   ]
  },
  {
   "cell_type": "code",
   "execution_count": 2,
   "metadata": {},
   "outputs": [
    {
     "name": "stdout",
     "output_type": "stream",
     "text": [
      "20\n"
     ]
    }
   ],
   "source": [
    "print(my_dict.get('age'))"
   ]
  },
  {
   "cell_type": "code",
   "execution_count": 4,
   "metadata": {},
   "outputs": [
    {
     "ename": "KeyError",
     "evalue": "'address'",
     "output_type": "error",
     "traceback": [
      "\u001b[1;31m---------------------------------------------------------------------------\u001b[0m",
      "\u001b[1;31mKeyError\u001b[0m                                  Traceback (most recent call last)",
      "\u001b[1;32mc:\\Users\\lenovo\\Documents\\digipodium python\\dictionry.ipynb Cell 4\u001b[0m in \u001b[0;36m<cell line: 4>\u001b[1;34m()\u001b[0m\n\u001b[0;32m      <a href='vscode-notebook-cell:/c%3A/Users/lenovo/Documents/digipodium%20python/dictionry.ipynb#W4sZmlsZQ%3D%3D?line=0'>1</a>\u001b[0m \u001b[39m# trying to access keys which\u001b[39;00m\n\u001b[0;32m      <a href='vscode-notebook-cell:/c%3A/Users/lenovo/Documents/digipodium%20python/dictionry.ipynb#W4sZmlsZQ%3D%3D?line=1'>2</a>\u001b[0m \u001b[39m# which does not exist through error\u001b[39;00m\n\u001b[1;32m----> <a href='vscode-notebook-cell:/c%3A/Users/lenovo/Documents/digipodium%20python/dictionry.ipynb#W4sZmlsZQ%3D%3D?line=3'>4</a>\u001b[0m \u001b[39mprint\u001b[39m(my_dict[\u001b[39m'\u001b[39;49m\u001b[39maddress\u001b[39;49m\u001b[39m'\u001b[39;49m])\n\u001b[0;32m      <a href='vscode-notebook-cell:/c%3A/Users/lenovo/Documents/digipodium%20python/dictionry.ipynb#W4sZmlsZQ%3D%3D?line=4'>5</a>\u001b[0m \u001b[39mprint\u001b[39m(my_dict\u001b[39m.\u001b[39mget(\u001b[39m'\u001b[39m\u001b[39maddress\u001b[39m\u001b[39m'\u001b[39m))\n",
      "\u001b[1;31mKeyError\u001b[0m: 'address'"
     ]
    }
   ],
   "source": [
    "\n",
    "# trying to access keys which\n",
    "# which does not exist through error\n",
    "\n",
    "print(my_dict['address'])\n",
    "print(my_dict.get('address'))"
   ]
  },
  {
   "cell_type": "code",
   "execution_count": 8,
   "metadata": {},
   "outputs": [
    {
     "name": "stdout",
     "output_type": "stream",
     "text": [
      "{'name': 'deepak', 'age': 37, 'address': 'kotdwar'}\n",
      "{'name': 'deepak', 'age': 37, 'address': 'kotdwar'}\n"
     ]
    }
   ],
   "source": [
    "# modifying elements from dictinary \n",
    "my_dict['age'] = 37\n",
    "print(my_dict)\n",
    "my_dict['address']='kotdwar'\n",
    "print(my_dict)"
   ]
  },
  {
   "cell_type": "code",
   "execution_count": 11,
   "metadata": {},
   "outputs": [
    {
     "name": "stdout",
     "output_type": "stream",
     "text": [
      "16\n",
      "(5, 25)\n",
      "{}\n"
     ]
    }
   ],
   "source": [
    "sq={1:1,2:4,3:9,4:16,5:25}\n",
    "# remove a particular item , returns its value\n",
    "print(sq.pop(4))\n",
    "# remove the arbitrary item,retur(ket,value)\n",
    "print(sq.popitem())\n",
    "sq.clear()\n",
    "print(sq)"
   ]
  },
  {
   "cell_type": "code",
   "execution_count": 15,
   "metadata": {},
   "outputs": [],
   "source": [
    "report ={\n",
    "    'student 1': {\n",
    "        'name': 'deepak pal',\n",
    "        'marks': {\n",
    "            'maths': 90,\n",
    "            'science': 98,\n",
    "            'history': 100,\n",
    "            'english': 60,\n",
    "            'evs': 99        }\n",
    "    },\n",
    "     'student 2': {\n",
    "        'name': 'Arushi Saxena',\n",
    "        'marks': {\n",
    "            'maths': 100,\n",
    "            'science': 99,\n",
    "            'history': 98,\n",
    "            'english': 91,\n",
    "            'evs': 100        \n",
    "        }\n",
    "    },\n",
    "},\n",
    "\n",
    "\n",
    "    "
   ]
  },
  {
   "cell_type": "code",
   "execution_count": 18,
   "metadata": {},
   "outputs": [
    {
     "ename": "TypeError",
     "evalue": "tuple indices must be integers or slices, not str",
     "output_type": "error",
     "traceback": [
      "\u001b[1;31m---------------------------------------------------------------------------\u001b[0m",
      "\u001b[1;31mTypeError\u001b[0m                                 Traceback (most recent call last)",
      "\u001b[1;32mc:\\Users\\lenovo\\Documents\\digipodium python\\dictionry.ipynb Cell 8\u001b[0m in \u001b[0;36m<cell line: 1>\u001b[1;34m()\u001b[0m\n\u001b[1;32m----> <a href='vscode-notebook-cell:/c%3A/Users/lenovo/Documents/digipodium%20python/dictionry.ipynb#X12sZmlsZQ%3D%3D?line=0'>1</a>\u001b[0m \u001b[39mprint\u001b[39m(report[\u001b[39m'\u001b[39;49m\u001b[39mstudent 1\u001b[39;49m\u001b[39m'\u001b[39;49m][\u001b[39m'\u001b[39m\u001b[39mname\u001b[39m\u001b[39m'\u001b[39m])\n",
      "\u001b[1;31mTypeError\u001b[0m: tuple indices must be integers or slices, not str"
     ]
    }
   ],
   "source": [
    "print(report['student 1']['name'])"
   ]
  },
  {
   "cell_type": "code",
   "execution_count": 20,
   "metadata": {},
   "outputs": [
    {
     "ename": "NameError",
     "evalue": "name 'items' is not defined",
     "output_type": "error",
     "traceback": [
      "\u001b[1;31m---------------------------------------------------------------------------\u001b[0m",
      "\u001b[1;31mNameError\u001b[0m                                 Traceback (most recent call last)",
      "\u001b[1;32mc:\\Users\\lenovo\\Documents\\digipodium python\\dictionry.ipynb Cell 9\u001b[0m in \u001b[0;36m<cell line: 2>\u001b[1;34m()\u001b[0m\n\u001b[0;32m      <a href='vscode-notebook-cell:/c%3A/Users/lenovo/Documents/digipodium%20python/dictionry.ipynb#X13sZmlsZQ%3D%3D?line=0'>1</a>\u001b[0m \u001b[39m# loops for dictionary\u001b[39;00m\n\u001b[1;32m----> <a href='vscode-notebook-cell:/c%3A/Users/lenovo/Documents/digipodium%20python/dictionry.ipynb#X13sZmlsZQ%3D%3D?line=1'>2</a>\u001b[0m \u001b[39mfor\u001b[39;00m i \u001b[39min\u001b[39;00m report,items():\n\u001b[0;32m      <a href='vscode-notebook-cell:/c%3A/Users/lenovo/Documents/digipodium%20python/dictionry.ipynb#X13sZmlsZQ%3D%3D?line=2'>3</a>\u001b[0m     \u001b[39mprint\u001b[39m(i)\n",
      "\u001b[1;31mNameError\u001b[0m: name 'items' is not defined"
     ]
    }
   ],
   "source": [
    "# loops for dictionary\n",
    "for i in report,items():\n",
    "    print(i)"
   ]
  },
  {
   "cell_type": "code",
   "execution_count": null,
   "metadata": {},
   "outputs": [],
   "source": []
  }
 ],
 "metadata": {
  "kernelspec": {
   "display_name": "Python 3.9.12 ('base')",
   "language": "python",
   "name": "python3"
  },
  "language_info": {
   "codemirror_mode": {
    "name": "ipython",
    "version": 3
   },
   "file_extension": ".py",
   "mimetype": "text/x-python",
   "name": "python",
   "nbconvert_exporter": "python",
   "pygments_lexer": "ipython3",
   "version": "3.9.12"
  },
  "orig_nbformat": 4,
  "vscode": {
   "interpreter": {
    "hash": "44a5d09c9c41ff8ead3aaf2e87702949456d3b7a275ab0a4f7941bb46848400c"
   }
  }
 },
 "nbformat": 4,
 "nbformat_minor": 2
}
