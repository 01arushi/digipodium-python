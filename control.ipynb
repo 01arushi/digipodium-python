{
 "cells": [
  {
   "cell_type": "code",
   "execution_count": 1,
   "metadata": {},
   "outputs": [],
   "source": [
    "# how to control the program \n"
   ]
  },
  {
   "cell_type": "code",
   "execution_count": 7,
   "metadata": {},
   "outputs": [
    {
     "name": "stdout",
     "output_type": "stream",
     "text": [
      "the end\n"
     ]
    }
   ],
   "source": [
    "# if condition \n",
    "x=256485\n",
    "if x%2==0 :\n",
    "    print(\"the number is even\")\n",
    "print(\"the end\")\n"
   ]
  },
  {
   "cell_type": "code",
   "execution_count": 9,
   "metadata": {},
   "outputs": [
    {
     "data": {
      "text/plain": [
       "True"
      ]
     },
     "execution_count": 9,
     "metadata": {},
     "output_type": "execute_result"
    }
   ],
   "source": [
    "a='1'\n",
    "a.isnumeric()"
   ]
  },
  {
   "cell_type": "code",
   "execution_count": 12,
   "metadata": {},
   "outputs": [
    {
     "name": "stdout",
     "output_type": "stream",
     "text": [
      "the number is numeric\n"
     ]
    }
   ],
   "source": [
    "num=input('enter a number')\n",
    "if num.isnumeric() :\n",
    " print(\"the number is numeric\")\n",
    " num=int(num)\n",
    "else:\n",
    "    print('the number is not numeric') "
   ]
  },
  {
   "cell_type": "code",
   "execution_count": 18,
   "metadata": {},
   "outputs": [
    {
     "name": "stdout",
     "output_type": "stream",
     "text": [
      "welcome to world\n"
     ]
    }
   ],
   "source": [
    "username='arushi'\n",
    "email='arushi@gmail.com'\n",
    "password='qwerty'\n",
    "if username=='arushi':\n",
    "  if email=='arushi@gmail.com':\n",
    "    if password=='qwerty':\n",
    "        print(\"welcome to world\")\n",
    "    else:\n",
    "        print(\"wrong password\")\n",
    "  else:\n",
    "    print(\"wrong email\")\n",
    "else:\n",
    "    print(\"wrong username\")\n",
    "\n"
   ]
  },
  {
   "cell_type": "code",
   "execution_count": 21,
   "metadata": {},
   "outputs": [
    {
     "name": "stdout",
     "output_type": "stream",
     "text": [
      "welcome to world\n"
     ]
    }
   ],
   "source": [
    "#not nested code \n",
    "username='arushi'\n",
    "email='arushi@gmail.com'\n",
    "password='qwerty'\n",
    "if username!='arushi':\n",
    "    print(\"wrong username\")\n",
    "if email!='arushi@gmail.com':\n",
    "     print(\"wrong email\")\n",
    "if password!='qwerty':\n",
    "         print(\"wrong password\")\n",
    "else:\n",
    "    print(\"welcome to world\")\n"
   ]
  },
  {
   "cell_type": "code",
   "execution_count": 23,
   "metadata": {},
   "outputs": [
    {
     "name": "stdout",
     "output_type": "stream",
     "text": [
      "welcome to world\n"
     ]
    }
   ],
   "source": [
    "username='arushi'\n",
    "email='arushi@gmail.com'\n",
    "password='qwerty'\n",
    "if username!='arushi':\n",
    "    print(\"wrong username\")\n",
    "elif email!='arushi@gmail.com':\n",
    "     print(\"wrong email\")\n",
    "elif password!='qwerty':\n",
    "         print(\"wrong password\")\n",
    "else:\n",
    "    print(\"welcome to world\")\n"
   ]
  },
  {
   "cell_type": "code",
   "execution_count": 32,
   "metadata": {},
   "outputs": [
    {
     "name": "stdout",
     "output_type": "stream",
     "text": [
      "grade is B\n"
     ]
    }
   ],
   "source": [
    "#question \n",
    "\n",
    "num=input('enter the number =')\n",
    "if not num.isnumeric():\n",
    "    print(\"invalid\")\n",
    "else:    \n",
    "    num=int(num)\n",
    "if num>=90 :\n",
    "    print('grade is A')\n",
    "elif num>=80 :\n",
    "    print('grade is B')   \n",
    "elif num>=70 :\n",
    "    print('grade is C')\n",
    "elif num>=60 :\n",
    "    print('grade is D')         \n",
    "# elif num<60 :\n",
    "#     print('grade is F')  \n",
    "else:\n",
    "    print(\"f\")"
   ]
  }
 ],
 "metadata": {
  "kernelspec": {
   "display_name": "Python 3.9.12 ('base')",
   "language": "python",
   "name": "python3"
  },
  "language_info": {
   "codemirror_mode": {
    "name": "ipython",
    "version": 3
   },
   "file_extension": ".py",
   "mimetype": "text/x-python",
   "name": "python",
   "nbconvert_exporter": "python",
   "pygments_lexer": "ipython3",
   "version": "3.9.12"
  },
  "orig_nbformat": 4,
  "vscode": {
   "interpreter": {
    "hash": "44a5d09c9c41ff8ead3aaf2e87702949456d3b7a275ab0a4f7941bb46848400c"
   }
  }
 },
 "nbformat": 4,
 "nbformat_minor": 2
}
