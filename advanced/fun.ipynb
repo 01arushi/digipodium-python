{
 "cells": [
  {
   "cell_type": "code",
   "execution_count": 1,
   "metadata": {},
   "outputs": [
    {
     "name": "stdout",
     "output_type": "stream",
     "text": [
      "hi, i m outside the function\n"
     ]
    }
   ],
   "source": [
    "def hello():\n",
    "    print(\"thsi is a function\")\n",
    "    print(\"thsi is not a good function\")\n",
    "    print(\"forget that this is a function\")\n",
    "    print(\"thsi is a function\")\n",
    "    print(\"bye\")\n",
    "\n",
    "print(\"hi, i m outside the function\")    "
   ]
  },
  {
   "cell_type": "code",
   "execution_count": 2,
   "metadata": {},
   "outputs": [
    {
     "data": {
      "text/plain": [
       "<function __main__.hello()>"
      ]
     },
     "execution_count": 2,
     "metadata": {},
     "output_type": "execute_result"
    }
   ],
   "source": [
    "hello"
   ]
  },
  {
   "cell_type": "code",
   "execution_count": 3,
   "metadata": {},
   "outputs": [
    {
     "name": "stdout",
     "output_type": "stream",
     "text": [
      "thsi is a function\n",
      "thsi is not a good function\n",
      "forget that this is a function\n",
      "thsi is a function\n",
      "bye\n"
     ]
    }
   ],
   "source": [
    "hello()"
   ]
  },
  {
   "cell_type": "code",
   "execution_count": 4,
   "metadata": {},
   "outputs": [
    {
     "name": "stdout",
     "output_type": "stream",
     "text": [
      "thsi is a function\n",
      "thsi is not a good function\n",
      "forget that this is a function\n",
      "thsi is a function\n",
      "bye\n",
      "thsi is a function\n",
      "thsi is not a good function\n",
      "forget that this is a function\n",
      "thsi is a function\n",
      "bye\n",
      "thsi is a function\n",
      "thsi is not a good function\n",
      "forget that this is a function\n",
      "thsi is a function\n",
      "bye\n"
     ]
    }
   ],
   "source": [
    "for i in range(3):\n",
    "    hello()"
   ]
  },
  {
   "cell_type": "code",
   "execution_count": 5,
   "metadata": {},
   "outputs": [],
   "source": [
    "def area():\n",
    "    pass "
   ]
  },
  {
   "cell_type": "code",
   "execution_count": 8,
   "metadata": {},
   "outputs": [],
   "source": [
    "\n",
    "def area(length,breath):\n",
    "    ans= length*breath\n",
    "    return ans "
   ]
  },
  {
   "cell_type": "code",
   "execution_count": 9,
   "metadata": {},
   "outputs": [
    {
     "data": {
      "text/plain": [
       "25"
      ]
     },
     "execution_count": 9,
     "metadata": {},
     "output_type": "execute_result"
    }
   ],
   "source": [
    "area(5,5)"
   ]
  },
  {
   "cell_type": "code",
   "execution_count": 10,
   "metadata": {},
   "outputs": [
    {
     "name": "stdout",
     "output_type": "stream",
     "text": [
      "the area is 12\n"
     ]
    }
   ],
   "source": [
    "('the area is',area(4,3))"
   ]
  },
  {
   "cell_type": "code",
   "execution_count": 11,
   "metadata": {},
   "outputs": [
    {
     "name": "stdout",
     "output_type": "stream",
     "text": [
      "16 20\n"
     ]
    }
   ],
   "source": [
    "a=area(4, 4)\n",
    "b=area(4, 5)\n",
    "print(a, b)"
   ]
  },
  {
   "cell_type": "code",
   "execution_count": 12,
   "metadata": {},
   "outputs": [
    {
     "name": "stdout",
     "output_type": "stream",
     "text": [
      "160\n"
     ]
    }
   ],
   "source": [
    "big_area=area(5,5)+area(10,12)+15\n",
    "print(big_area)"
   ]
  },
  {
   "cell_type": "code",
   "execution_count": 6,
   "metadata": {},
   "outputs": [],
   "source": [
    "def fib(start: int ,size: int):\n",
    "    '''\n",
    "     this  is a fibonacci series generator\n",
    "     - params\n",
    "         - start: pass a number for the start of fibonacci series\n",
    "         -  size: size of fibonacci series\n",
    "    - returns: list of fibonacci series\n",
    "\n",
    "    '''\n",
    "    '''out= fib(0)\n",
    "    print(out)'''\n",
    "    '''\n",
    "    ''' \n",
    "    out =[start, start+1] # list with 2 init value\n",
    "\n",
    "    for i in range (size-2):\n",
    "        out.append(out[-1]+ out[-2])\n",
    "    return out     \n",
    "    "
   ]
  },
  {
   "cell_type": "code",
   "execution_count": 7,
   "metadata": {},
   "outputs": [
    {
     "data": {
      "text/plain": [
       "[0, 1, 1, 2, 3, 5, 8, 13, 21, 34]"
      ]
     },
     "execution_count": 7,
     "metadata": {},
     "output_type": "execute_result"
    }
   ],
   "source": [
    "fib(0, 10)"
   ]
  },
  {
   "cell_type": "code",
   "execution_count": 10,
   "metadata": {},
   "outputs": [
    {
     "name": "stdout",
     "output_type": "stream",
     "text": [
      "[3, 4, 7, 11, 18, 29, 47, 76, 123, 199, 322, 521, 843, 1364, 2207, 3571, 5778, 9349, 15127, 24476, 39603, 64079, 103682, 167761, 271443]\n"
     ]
    }
   ],
   "source": [
    "print(fib(3,25))"
   ]
  },
  {
   "cell_type": "code",
   "execution_count": 11,
   "metadata": {},
   "outputs": [
    {
     "name": "stdout",
     "output_type": "stream",
     "text": [
      "[0, 1, 1, 2, 3, 5, 8, 13, 21, 34, 55, 89, 144, 233, 377, 610, 987, 1597, 2584, 4181, 6765, 10946, 17711, 28657, 46368]\n"
     ]
    }
   ],
   "source": [
    "print(fib(0,25))"
   ]
  },
  {
   "cell_type": "code",
   "execution_count": 12,
   "metadata": {},
   "outputs": [
    {
     "ename": "TypeError",
     "evalue": "fib() missing 2 required positional arguments: 'start' and 'size'",
     "output_type": "error",
     "traceback": [
      "\u001b[1;31m---------------------------------------------------------------------------\u001b[0m",
      "\u001b[1;31mTypeError\u001b[0m                                 Traceback (most recent call last)",
      "\u001b[1;32mc:\\Users\\lenovo\\Documents\\digipodium python\\advanced\\fun.ipynb Cell 15\u001b[0m in \u001b[0;36m<cell line: 1>\u001b[1;34m()\u001b[0m\n\u001b[1;32m----> <a href='vscode-notebook-cell:/c%3A/Users/lenovo/Documents/digipodium%20python/advanced/fun.ipynb#X21sZmlsZQ%3D%3D?line=0'>1</a>\u001b[0m fib()\n",
      "\u001b[1;31mTypeError\u001b[0m: fib() missing 2 required positional arguments: 'start' and 'size'"
     ]
    }
   ],
   "source": [
    "fib()"
   ]
  },
  {
   "cell_type": "code",
   "execution_count": 14,
   "metadata": {},
   "outputs": [
    {
     "data": {
      "text/plain": [
       "[3, 4, 7]"
      ]
     },
     "execution_count": 14,
     "metadata": {},
     "output_type": "execute_result"
    }
   ],
   "source": [
    "fib(3,3)"
   ]
  },
  {
   "cell_type": "code",
   "execution_count": 15,
   "metadata": {},
   "outputs": [],
   "source": [
    "def fib2(start, size):\n",
    "    out =[start , start+1]\n",
    "    for i in range(size-2):\n",
    "        out.append(out[-1]+out[-2])\n",
    "    return out     "
   ]
  },
  {
   "cell_type": "code",
   "execution_count": 16,
   "metadata": {},
   "outputs": [],
   "source": [
    "# create a function to calculate to S.I. and amount and return item \n",
    "\n",
    "def calc_si_amt(p, r, t):\n",
    "    si = p*r*t/100\n",
    "    amt=p-si\n",
    "    return si , amt"
   ]
  },
  {
   "cell_type": "code",
   "execution_count": 17,
   "metadata": {},
   "outputs": [
    {
     "data": {
      "text/plain": [
       "(4000.0, 6000.0)"
      ]
     },
     "execution_count": 17,
     "metadata": {},
     "output_type": "execute_result"
    }
   ],
   "source": [
    "calc_si_amt(10000,4,10)"
   ]
  },
  {
   "cell_type": "code",
   "execution_count": 20,
   "metadata": {},
   "outputs": [
    {
     "name": "stdout",
     "output_type": "stream",
     "text": [
      "(4000.0, 6000.0)\n"
     ]
    }
   ],
   "source": [
    "si_amt= calc_si_amt(10000,4,10)\n",
    "print(si_amt)"
   ]
  },
  {
   "cell_type": "code",
   "execution_count": 21,
   "metadata": {},
   "outputs": [],
   "source": [
    "import utils"
   ]
  },
  {
   "cell_type": "code",
   "execution_count": 22,
   "metadata": {},
   "outputs": [],
   "source": [
    "s= 'Return an object that produces a sequence of integer from start i, i+1,i+2,......, j-1. start defaults to 0, and stop is omitted!'"
   ]
  },
  {
   "cell_type": "code",
   "execution_count": 23,
   "metadata": {},
   "outputs": [
    {
     "data": {
      "text/plain": [
       "['Return',\n",
       " 'an',\n",
       " 'object',\n",
       " 'that',\n",
       " 'produces',\n",
       " 'a',\n",
       " 'sequence',\n",
       " 'of',\n",
       " 'integer',\n",
       " 'from',\n",
       " 'start',\n",
       " 'i,',\n",
       " 'i+1,i+2,......,',\n",
       " 'j-1.',\n",
       " 'start',\n",
       " 'defaults',\n",
       " 'to',\n",
       " '0,',\n",
       " 'and',\n",
       " 'stop',\n",
       " 'is',\n",
       " 'omitted!']"
      ]
     },
     "execution_count": 23,
     "metadata": {},
     "output_type": "execute_result"
    }
   ],
   "source": [
    "utils.word_counter(s)"
   ]
  },
  {
   "cell_type": "code",
   "execution_count": 24,
   "metadata": {},
   "outputs": [],
   "source": [
    "s='this is that, that is this,what is where and where is what '"
   ]
  },
  {
   "cell_type": "code",
   "execution_count": 25,
   "metadata": {},
   "outputs": [
    {
     "data": {
      "text/plain": [
       "['this',\n",
       " 'is',\n",
       " 'that,',\n",
       " 'that',\n",
       " 'is',\n",
       " 'this,what',\n",
       " 'is',\n",
       " 'where',\n",
       " 'and',\n",
       " 'where',\n",
       " 'is',\n",
       " 'what']"
      ]
     },
     "execution_count": 25,
     "metadata": {},
     "output_type": "execute_result"
    }
   ],
   "source": [
    "utils.word_counter(s)"
   ]
  },
  {
   "cell_type": "code",
   "execution_count": 26,
   "metadata": {},
   "outputs": [
    {
     "name": "stdout",
     "output_type": "stream",
     "text": [
      ", 2\n",
      "d 1\n",
      "a 5\n",
      "i 6\n",
      "  12\n",
      "r 2\n",
      "n 1\n",
      "s 6\n",
      "e 4\n",
      "t 8\n",
      "w 4\n",
      "h 8\n"
     ]
    },
    {
     "data": {
      "text/plain": [
       "{',': 2,\n",
       " 'd': 1,\n",
       " 'a': 5,\n",
       " 'i': 6,\n",
       " ' ': 12,\n",
       " 'r': 2,\n",
       " 'n': 1,\n",
       " 's': 6,\n",
       " 'e': 4,\n",
       " 't': 8,\n",
       " 'w': 4,\n",
       " 'h': 8}"
      ]
     },
     "execution_count": 26,
     "metadata": {},
     "output_type": "execute_result"
    }
   ],
   "source": [
    "utils.char_counter(s)"
   ]
  },
  {
   "cell_type": "code",
   "execution_count": null,
   "metadata": {},
   "outputs": [],
   "source": []
  }
 ],
 "metadata": {
  "kernelspec": {
   "display_name": "Python 3.9.12 ('base')",
   "language": "python",
   "name": "python3"
  },
  "language_info": {
   "codemirror_mode": {
    "name": "ipython",
    "version": 3
   },
   "file_extension": ".py",
   "mimetype": "text/x-python",
   "name": "python",
   "nbconvert_exporter": "python",
   "pygments_lexer": "ipython3",
   "version": "3.9.12"
  },
  "orig_nbformat": 4,
  "vscode": {
   "interpreter": {
    "hash": "44a5d09c9c41ff8ead3aaf2e87702949456d3b7a275ab0a4f7941bb46848400c"
   }
  }
 },
 "nbformat": 4,
 "nbformat_minor": 2
}
