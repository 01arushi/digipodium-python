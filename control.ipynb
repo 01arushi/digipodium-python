{
 "cells": [
  {
   "cell_type": "code",
   "execution_count": 1,
   "metadata": {},
   "outputs": [],
   "source": [
    "# how to control the program \n"
   ]
  },
  {
   "cell_type": "code",
   "execution_count": 7,
   "metadata": {},
   "outputs": [
    {
     "name": "stdout",
     "output_type": "stream",
     "text": [
      "the end\n"
     ]
    }
   ],
   "source": [
    "# if condition \n",
    "x=256485\n",
    "if x%2==0 :\n",
    "    print(\"the number is even\")\n",
    "print(\"the end\")\n"
   ]
  },
  {
   "cell_type": "code",
   "execution_count": 9,
   "metadata": {},
   "outputs": [
    {
     "data": {
      "text/plain": [
       "True"
      ]
     },
     "execution_count": 9,
     "metadata": {},
     "output_type": "execute_result"
    }
   ],
   "source": [
    "a='1'\n",
    "a.isnumeric()"
   ]
  },
  {
   "cell_type": "code",
   "execution_count": 12,
   "metadata": {},
   "outputs": [
    {
     "name": "stdout",
     "output_type": "stream",
     "text": [
      "the number is numeric\n"
     ]
    }
   ],
   "source": [
    "num=input('enter a number')\n",
    "if num.isnumeric() :\n",
    " print(\"the number is numeric\")\n",
    " num=int(num)\n",
    "else:\n",
    "    print('the number is not numeric') "
   ]
  },
  {
   "cell_type": "code",
   "execution_count": 18,
   "metadata": {},
   "outputs": [
    {
     "name": "stdout",
     "output_type": "stream",
     "text": [
      "welcome to world\n"
     ]
    }
   ],
   "source": [
    "username='arushi'\n",
    "email='arushi@gmail.com'\n",
    "password='qwerty'\n",
    "if username=='arushi':\n",
    "  if email=='arushi@gmail.com':\n",
    "    if password=='qwerty':\n",
    "        print(\"welcome to world\")\n",
    "    else:\n",
    "        print(\"wrong password\")\n",
    "  else:\n",
    "    print(\"wrong email\")\n",
    "else:\n",
    "    print(\"wrong username\")\n",
    "\n"
   ]
  },
  {
   "cell_type": "code",
   "execution_count": 21,
   "metadata": {},
   "outputs": [
    {
     "name": "stdout",
     "output_type": "stream",
     "text": [
      "welcome to world\n"
     ]
    }
   ],
   "source": [
    "#not nested code \n",
    "username='arushi'\n",
    "email='arushi@gmail.com'\n",
    "password='qwerty'\n",
    "if username!='arushi':\n",
    "    print(\"wrong username\")\n",
    "if email!='arushi@gmail.com':\n",
    "     print(\"wrong email\")\n",
    "if password!='qwerty':\n",
    "         print(\"wrong password\")\n",
    "else:\n",
    "    print(\"welcome to world\")\n"
   ]
  },
  {
   "cell_type": "code",
   "execution_count": 23,
   "metadata": {},
   "outputs": [
    {
     "name": "stdout",
     "output_type": "stream",
     "text": [
      "welcome to world\n"
     ]
    }
   ],
   "source": [
    "username='arushi'\n",
    "email='arushi@gmail.com'\n",
    "password='qwerty'\n",
    "if username!='arushi':\n",
    "    print(\"wrong username\")\n",
    "elif email!='arushi@gmail.com':\n",
    "     print(\"wrong email\")\n",
    "elif password!='qwerty':\n",
    "         print(\"wrong password\")\n",
    "else:\n",
    "    print(\"welcome to world\")\n"
   ]
  },
  {
   "cell_type": "code",
   "execution_count": 1,
   "metadata": {},
   "outputs": [
    {
     "name": "stdout",
     "output_type": "stream",
     "text": [
      "f\n"
     ]
    }
   ],
   "source": [
    "#question \n",
    "\n",
    "num=input('enter the number =')\n",
    "if not num.isnumeric():\n",
    "    print(\"invalid\")\n",
    "else:    \n",
    "    num=int(num)\n",
    "if num>=90 :\n",
    "    print('grade is A')\n",
    "elif num>=80 :\n",
    "    print('grade is B')   \n",
    "elif num>=70 :\n",
    "    print('grade is C')\n",
    "elif num>=60 :\n",
    "    print('grade is D')         \n",
    "# elif num<60 :\n",
    "#     print('grade is F')  \n",
    "else:\n",
    "    print(\"f\")"
   ]
  },
  {
   "cell_type": "code",
   "execution_count": 4,
   "metadata": {},
   "outputs": [
    {
     "data": {
      "text/plain": [
       "9"
      ]
     },
     "execution_count": 4,
     "metadata": {},
     "output_type": "execute_result"
    }
   ],
   "source": [
    "word='volkwagen'\n",
    "len(word)"
   ]
  },
  {
   "cell_type": "code",
   "execution_count": 5,
   "metadata": {},
   "outputs": [
    {
     "name": "stdout",
     "output_type": "stream",
     "text": [
      "P\n",
      "Y\n",
      "T\n",
      "H\n",
      "O\n",
      "N\n"
     ]
    }
   ],
   "source": [
    "x='PYTHON'\n",
    "for i in x:\n",
    "    print(i)"
   ]
  },
  {
   "cell_type": "code",
   "execution_count": 2,
   "metadata": {},
   "outputs": [
    {
     "name": "stdout",
     "output_type": "stream",
     "text": [
      "i have apple\n",
      "i have  apple\n",
      "i have banana\n",
      "i have  banana\n",
      "i have orange\n",
      "i have  orange\n"
     ]
    }
   ],
   "source": [
    "fruits=['apple','banana','orange']\n",
    "for item in fruits:\n",
    "    print(f'i have {item}')\n",
    "    print(\"i have \", item)"
   ]
  },
  {
   "cell_type": "code",
   "execution_count": 5,
   "metadata": {},
   "outputs": [
    {
     "name": "stdout",
     "output_type": "stream",
     "text": [
      "you got point 0\n",
      "you got point 1\n",
      "you got point 2\n",
      "you got point 3\n",
      "you got point 4\n",
      "you got point 5\n"
     ]
    }
   ],
   "source": [
    "for i in range(6):\n",
    "  print('you got point',i)"
   ]
  },
  {
   "cell_type": "code",
   "execution_count": 6,
   "metadata": {},
   "outputs": [
    {
     "name": "stdout",
     "output_type": "stream",
     "text": [
      "level 1\n",
      "level 4\n",
      "level 7\n"
     ]
    }
   ],
   "source": [
    "for num in range(1,10,3):\n",
    "    print('level',num)"
   ]
  },
  {
   "cell_type": "code",
   "execution_count": 9,
   "metadata": {},
   "outputs": [
    {
     "name": "stdout",
     "output_type": "stream",
     "text": [
      "mango 2\n",
      "mango 3\n",
      "mango 4\n",
      "mango 5\n",
      "mango 6\n",
      "mango 7\n",
      "mango 8\n",
      "mango 9\n",
      "mango 10\n"
     ]
    }
   ],
   "source": [
    "for num in range (2,11):\n",
    "    print('mango',num)"
   ]
  },
  {
   "cell_type": "code",
   "execution_count": 10,
   "metadata": {},
   "outputs": [
    {
     "name": "stdout",
     "output_type": "stream",
     "text": [
      "reverse counting -  20\n",
      "reverse counting -  18\n",
      "reverse counting -  16\n",
      "reverse counting -  14\n",
      "reverse counting -  12\n",
      "reverse counting -  10\n",
      "reverse counting -  8\n",
      "reverse counting -  6\n",
      "reverse counting -  4\n",
      "reverse counting -  2\n"
     ]
    }
   ],
   "source": [
    "# reverse loop\n",
    "for num in range(20,0,-2):\n",
    "    print ('reverse counting - ', num)"
   ]
  },
  {
   "cell_type": "code",
   "execution_count": 11,
   "metadata": {},
   "outputs": [
    {
     "name": "stdout",
     "output_type": "stream",
     "text": [
      "\n",
      "NA\n",
      "NANA\n",
      "NANANA\n",
      "NANANANA\n"
     ]
    }
   ],
   "source": [
    "# reverse pattern loop\n",
    "for a in range(5):\n",
    "    print(a*'NA')"
   ]
  },
  {
   "cell_type": "markdown",
   "metadata": {},
   "source": [
    "for loop setting \n",
    "1. enumerate \n",
    "2. zip "
   ]
  },
  {
   "cell_type": "code",
   "execution_count": 12,
   "metadata": {},
   "outputs": [
    {
     "name": "stdout",
     "output_type": "stream",
     "text": [
      "apple\n",
      "orange\n",
      "banana\n"
     ]
    }
   ],
   "source": [
    "fruits = ['apple','orange','banana']\n",
    "for fruit in fruits:\n",
    "    print(fruit)"
   ]
  },
  {
   "cell_type": "code",
   "execution_count": 13,
   "metadata": {},
   "outputs": [
    {
     "name": "stdout",
     "output_type": "stream",
     "text": [
      "(0, 'apple')\n",
      "(1, 'orange')\n",
      "(2, 'banana')\n"
     ]
    }
   ],
   "source": [
    "for fruit in enumerate (fruits):\n",
    "    print(fruit)"
   ]
  },
  {
   "cell_type": "code",
   "execution_count": 14,
   "metadata": {},
   "outputs": [
    {
     "name": "stdout",
     "output_type": "stream",
     "text": [
      "0 apple\n",
      "1 orange\n",
      "2 banana\n"
     ]
    }
   ],
   "source": [
    "for i, fruit in enumerate (fruits):\n",
    "    print(i,fruit)"
   ]
  },
  {
   "cell_type": "code",
   "execution_count": 15,
   "metadata": {},
   "outputs": [],
   "source": [
    "prices=[100,25,45,85,95,63,24,75,12]\n",
    "# dono ko ek loop mei chlana hai "
   ]
  },
  {
   "cell_type": "code",
   "execution_count": 18,
   "metadata": {},
   "outputs": [
    {
     "name": "stdout",
     "output_type": "stream",
     "text": [
      "apple ==> 100\n",
      "orange ==> 25\n",
      "banana ==> 45\n"
     ]
    }
   ],
   "source": [
    "for f,p in zip(fruits,prices):\n",
    "    print(f,'==>',p)"
   ]
  },
  {
   "cell_type": "code",
   "execution_count": 19,
   "metadata": {},
   "outputs": [],
   "source": [
    "quantity=['2kg','4kg','3 dozen']\n"
   ]
  },
  {
   "cell_type": "code",
   "execution_count": 21,
   "metadata": {},
   "outputs": [
    {
     "name": "stdout",
     "output_type": "stream",
     "text": [
      "apple ==> 2kg for $ 100\n",
      "orange ==> 4kg for $ 25\n",
      "banana ==> 3 dozen for $ 45\n"
     ]
    }
   ],
   "source": [
    "for f,p,q in zip(fruits,prices,quantity):\n",
    "    print(f,'==>',q,'for', '$',p)"
   ]
  },
  {
   "cell_type": "code",
   "execution_count": null,
   "metadata": {},
   "outputs": [],
   "source": []
  }
 ],
 "metadata": {
  "kernelspec": {
   "display_name": "Python 3.9.12 ('base')",
   "language": "python",
   "name": "python3"
  },
  "language_info": {
   "codemirror_mode": {
    "name": "ipython",
    "version": 3
   },
   "file_extension": ".py",
   "mimetype": "text/x-python",
   "name": "python",
   "nbconvert_exporter": "python",
   "pygments_lexer": "ipython3",
   "version": "3.9.12"
  },
  "orig_nbformat": 4,
  "vscode": {
   "interpreter": {
    "hash": "44a5d09c9c41ff8ead3aaf2e87702949456d3b7a275ab0a4f7941bb46848400c"
   }
  }
 },
 "nbformat": 4,
 "nbformat_minor": 2
}
